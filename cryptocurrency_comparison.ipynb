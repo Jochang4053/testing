{
 "cells": [
  {
   "cell_type": "code",
   "execution_count": null,
   "id": "1a2b3c4d",
   "metadata": {},
   "outputs": [],
   "source": [
    "import requests\n",
    "import pandas as pd\n",
    "import matplotlib.pyplot as plt\n",
    "\n",
    "def get_market_data(coin_id, days):\n",
    "    url = f'https://api.coingecko.com/api/v3/coins/{coin_id}/market_chart'\n",
    "    params = {\n",
    "        'vs_currency': 'usd',\n",
    "        'days': days\n",
    "    }\n",
    "    response = requests.get(url, params=params)\n",
    "    data = response.json()\n",
    "    prices = data['prices']\n",
    "    return pd.DataFrame(prices, columns=['timestamp', 'price'])\n",
    "\n",
    "ethereum_data = get_market_data('ethereum', 365)\n",
    "dogecoin_data = get_market_data('dogecoin', 365)\n",
    "\n",
    "plt.figure(figsize=(14, 7))\n",
    "plt.plot(pd.to_datetime(ethereum_data['timestamp'], unit='ms'), ethereum_data['price'], label='Ethereum')\n",
    "plt.plot(pd.to_datetime(dogecoin_data['timestamp'], unit='ms'), dogecoin_data['price'], label='Dogecoin')\n",
    "plt.title('Ethereum vs Dogecoin Price Comparison')\n",
    "plt.xlabel('Date')\n",
    "plt.ylabel('Price (USD)')\n",
    "plt.legend()\n",
    "plt.show()\n"
   ]
  }
 ],
 "metadata": {
  "kernelspec": {
   "display_name": "Python 3",
   "language": "python",
   "name": "python3"
  },
  "language_info": {
   "codemirror_mode": {
    "name": "ipython",
    "version": 3
   },
   "file_extension": ".py",
   "mimetype": "text/x-python",
   "name": "python",
   "nbconvert_exporter": "python",
   "pygments_lexer": "ipython3",
   "version": "3.7.11"
  }
 },
 "nbformat": 4,
 "nbformat_minor": 5
}
